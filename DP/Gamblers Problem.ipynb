{
 "cells": [
  {
   "cell_type": "markdown",
   "metadata": {
    "collapsed": true
   },
   "source": [
    "### This is Example 4.3. Gambler’s Problem from Sutton's book.\n",
    "\n",
    "A gambler has the opportunity to make bets on the outcomes of a sequence of coin flips. \n",
    "If the coin comes up heads, he wins as many dollars as he has staked on that flip; \n",
    "if it is tails, he loses his stake. The game ends when the gambler wins by reaching his goal of $100, \n",
    "or loses by running out of money. \n",
    "\n",
    "On each flip, the gambler must decide what portion of his capital to stake, in integer numbers of dollars. \n",
    "This problem can be formulated as an undiscounted, episodic, finite MDP. \n",
    "\n",
    "The state is the gambler’s capital, s ∈ {1, 2, . . . , 99}.\n",
    "The actions are stakes, a ∈ {0, 1, . . . , min(s, 100 − s)}. \n",
    "The reward is zero on all transitions except those on which the gambler reaches his goal, when it is +1.\n",
    "\n",
    "The state-value function then gives the probability of winning from each state. A policy is a mapping from levels of capital to stakes. The optimal policy maximizes the probability of reaching the goal. Let p_h denote the probability of the coin coming up heads. If p_h is known, then the entire problem is known and it can be solved, for instance, by value iteration.\n"
   ]
  },
  {
   "cell_type": "code",
   "execution_count": 1,
   "metadata": {},
   "outputs": [],
   "source": [
    "import numpy as np\n",
    "import sys\n",
    "import matplotlib.pyplot as plt\n",
    "if \"../\" not in sys.path:\n",
    "  sys.path.append(\"../\") "
   ]
  },
  {
   "cell_type": "markdown",
   "metadata": {
    "collapsed": true
   },
   "source": [
    "\n",
    "### Exercise 4.9 (programming)\n",
    "\n",
    "Implement value iteration for the gambler’s problem and solve it for p_h = 0.25 and p_h = 0.55.\n",
    "\n"
   ]
  },
  {
   "cell_type": "code",
   "execution_count": 27,
   "metadata": {},
   "outputs": [],
   "source": [
    "def value_iteration_for_gamblers(p_h, theta=0.000001, discount_factor=0.9):\n",
    "    \"\"\"\n",
    "    Args:\n",
    "        p_h: Probability of the coin coming up heads\n",
    "    \"\"\"\n",
    "    \n",
    "    def one_step_lookahead(s, V, rewards):\n",
    "        \"\"\"\n",
    "        Helper function to calculate the value for all action in a given state.\n",
    "        \n",
    "        Args:\n",
    "            s: The gambler’s capital. Integer.\n",
    "            V: The vector that contains values at each state. \n",
    "            rewards: The reward vector.\n",
    "                        \n",
    "        Returns:\n",
    "            A vector containing the expected value of each action. \n",
    "            Its length equals to the number of actions.\n",
    "        \"\"\"\n",
    "        \n",
    "        A = np.zeros(101)\n",
    "            \n",
    "        for a in range(0, min(s, 100 - s) + 1):\n",
    "            # heads\n",
    "            A[a] += p_h * (rewards[s + a] + discount_factor * V[s + a])\n",
    "            # tails\n",
    "            A[a] += (1 - p_h) * (rewards[s - a] + discount_factor * V[s - a])\n",
    "            \n",
    "        return A\n",
    "    \n",
    "    V = np.zeros(101)\n",
    "    rewards = np.zeros(101)\n",
    "    rewards[100] = 1\n",
    "    \n",
    "    # find optimal value function\n",
    "    while True:\n",
    "        last_V = V.copy()\n",
    "        V = np.zeros(101)\n",
    "        for s in range(1, 100):\n",
    "            action_values = one_step_lookahead(s, last_V, rewards)\n",
    "            V[s] = max(action_values)\n",
    "        \n",
    "        if max(abs(V - last_V)) < theta:\n",
    "            break\n",
    "            \n",
    "#     while True:\n",
    "#         # Stopping condition\n",
    "#         delta = 0\n",
    "#         # Update each state...\n",
    "#         for s in range(1, 100):\n",
    "#             # Do a one-step lookahead to find the best action\n",
    "#             A = one_step_lookahead(s, V, rewards)\n",
    "#             # print(s,A,V) # if you want to debug.\n",
    "#             best_action_value = np.max(A)\n",
    "#             # Calculate delta across all states seen so far\n",
    "#             delta = max(delta, np.abs(best_action_value - V[s]))\n",
    "#             # Update the value function. Ref: Sutton book eq. 4.10. \n",
    "#             V[s] = best_action_value        \n",
    "#         # Check if we can stop \n",
    "#         if delta < theta:\n",
    "#             break\n",
    "    \n",
    "    # find optimal policy (acting greedily on optimal value function)\n",
    "    policy = np.zeros(100)\n",
    "    for s in range(1, 100):\n",
    "        action_values = one_step_lookahead(s, V, rewards)\n",
    "        greedy_action = np.argmax(action_values)\n",
    "        policy[s] = greedy_action\n",
    "    \n",
    "    return policy, V"
   ]
  },
  {
   "cell_type": "code",
   "execution_count": 28,
   "metadata": {
    "scrolled": false
   },
   "outputs": [
    {
     "name": "stdout",
     "output_type": "stream",
     "text": [
      "Optimized Policy:\n",
      "[ 0.  1.  2.  3.  4.  5.  6.  7.  8.  9. 10. 11. 12. 12. 11. 15.  9. 17.\n",
      "  7.  6.  5.  4.  3.  2.  1. 25. 24. 27. 22. 29. 20. 19. 18. 17. 16. 15.\n",
      " 14. 13. 12. 11. 10.  9.  8.  7.  6.  5.  4. 47.  2.  1. 50. 49. 48. 47.\n",
      " 46. 45. 44. 43. 42. 41. 40. 39. 38. 37. 36. 35. 34. 33. 32. 31. 30. 29.\n",
      " 28. 27. 26. 25. 24. 23. 22. 21. 20. 19. 18. 17. 16. 15. 14. 13. 12. 11.\n",
      " 10.  9.  8.  7.  6.  5.  4.  3.  2.  1.]\n",
      "\n",
      "Optimized Value Function:\n",
      "[0.00000000e+00 3.74552408e-05 1.66475600e-04 3.60405767e-04\n",
      " 7.39891554e-04 1.09854399e-03 1.60180341e-03 2.90239288e-03\n",
      " 3.28843050e-03 3.76951822e-03 4.88244134e-03 6.06987566e-03\n",
      " 7.11912626e-03 1.26815323e-02 1.28995239e-02 1.33977619e-02\n",
      " 1.46153174e-02 1.52006748e-02 1.67534143e-02 2.12162790e-02\n",
      " 2.16997393e-02 2.29167055e-02 2.69772330e-02 2.81250103e-02\n",
      " 3.16406319e-02 5.62500000e-02 5.63623657e-02 5.67494268e-02\n",
      " 5.73312173e-02 5.84696747e-02 5.95456320e-02 6.10554102e-02\n",
      " 6.49571786e-02 6.61152915e-02 6.75585547e-02 7.08973240e-02\n",
      " 7.44596270e-02 7.76073788e-02 9.42945969e-02 9.49485717e-02\n",
      " 9.64432857e-02 1.00095952e-01 1.01852024e-01 1.06510243e-01\n",
      " 1.19898837e-01 1.21349218e-01 1.25000116e-01 1.37181699e-01\n",
      " 1.40625031e-01 1.51171896e-01 2.50000000e-01 2.50112366e-01\n",
      " 2.50499427e-01 2.51081217e-01 2.52219675e-01 2.53295632e-01\n",
      " 2.54805410e-01 2.58707179e-01 2.59865291e-01 2.61308555e-01\n",
      " 2.64647324e-01 2.68209627e-01 2.71357379e-01 2.88044597e-01\n",
      " 2.88698572e-01 2.90193286e-01 2.93845952e-01 2.95602024e-01\n",
      " 3.00260243e-01 3.13648837e-01 3.15099218e-01 3.18750116e-01\n",
      " 3.30931699e-01 3.34375031e-01 3.44921896e-01 4.18750000e-01\n",
      " 4.19087097e-01 4.20248280e-01 4.21993652e-01 4.25409024e-01\n",
      " 4.28636896e-01 4.33166231e-01 4.44871536e-01 4.48345874e-01\n",
      " 4.52675664e-01 4.62691972e-01 4.73378881e-01 4.82822136e-01\n",
      " 5.32883791e-01 5.34845715e-01 5.39329857e-01 5.50287857e-01\n",
      " 5.55556073e-01 5.69530729e-01 6.09696511e-01 6.14047653e-01\n",
      " 6.25000349e-01 6.61545097e-01 6.71875093e-01 7.03515687e-01\n",
      " 0.00000000e+00]\n",
      "\n"
     ]
    }
   ],
   "source": [
    "policy, v = value_iteration_for_gamblers(0.25)\n",
    "\n",
    "print(\"Optimized Policy:\")\n",
    "print(policy)\n",
    "print(\"\")\n",
    "\n",
    "print(\"Optimized Value Function:\")\n",
    "print(v)\n",
    "print(\"\")"
   ]
  },
  {
   "cell_type": "code",
   "execution_count": 29,
   "metadata": {},
   "outputs": [
    {
     "data": {
      "image/png": "[encoded data removed]",
      "text/plain": [
       "<Figure size 432x288 with 1 Axes>"
      ]
     },
     "metadata": {
      "needs_background": "light"
     },
     "output_type": "display_data"
    }
   ],
   "source": [
    "# Plotting Final Policy (action stake) vs State (Capital)\n",
    "\n",
    "# x axis values\n",
    "x = range(100)\n",
    "# corresponding y axis values\n",
    "y = v[:100]\n",
    " \n",
    "# plotting the points \n",
    "plt.plot(x, y)\n",
    " \n",
    "# naming the x axis\n",
    "plt.xlabel('Capital')\n",
    "# naming the y axis\n",
    "plt.ylabel('Value Estimates')\n",
    " \n",
    "# giving a title to the graph\n",
    "plt.title('Final Policy (action stake) vs State (Capital)')\n",
    " \n",
    "# function to show the plot\n",
    "plt.show()"
   ]
  },
  {
   "cell_type": "code",
   "execution_count": 30,
   "metadata": {},
   "outputs": [
    {
     "data": {
      "image/png": "[encoded data removed]",
      "text/plain": [
       "<Figure size 432x288 with 1 Axes>"
      ]
     },
     "metadata": {
      "needs_background": "light"
     },
     "output_type": "display_data"
    }
   ],
   "source": [
    "# Plotting Capital vs Final Policy\n",
    "\n",
    "# x axis values\n",
    "x = range(100)\n",
    "# corresponding y axis values\n",
    "y = policy\n",
    " \n",
    "# plotting the bars\n",
    "plt.bar(x, y, align='center', alpha=0.5)\n",
    " \n",
    "# naming the x axis\n",
    "plt.xlabel('Capital')\n",
    "# naming the y axis\n",
    "plt.ylabel('Final policy (stake)')\n",
    " \n",
    "# giving a title to the graph\n",
    "plt.title('Capital vs Final Policy')\n",
    " \n",
    "# function to show the plot\n",
    "plt.show()\n"
   ]
  },
  {
   "cell_type": "code",
   "execution_count": null,
   "metadata": {},
   "outputs": [],
   "source": []
  }
 ],
 "metadata": {
  "kernelspec": {
   "display_name": "Python 3",
   "language": "python",
   "name": "python3"
  },
  "language_info": {
   "codemirror_mode": {
    "name": "ipython",
    "version": 3
   },
   "file_extension": ".py",
   "mimetype": "text/x-python",
   "name": "python",
   "nbconvert_exporter": "python",
   "pygments_lexer": "ipython3",
   "version": "3.7.3"
  }
 },
 "nbformat": 4,
 "nbformat_minor": 1
}
